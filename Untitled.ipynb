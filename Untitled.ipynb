{
 "cells": [
  {
   "cell_type": "code",
   "execution_count": 3,
   "id": "95296dc4-66dc-4815-9a9b-be32f625c1fd",
   "metadata": {},
   "outputs": [
    {
     "name": "stdout",
     "output_type": "stream",
     "text": [
      "3600\n",
      "86400\n",
      "24.0\n",
      "24\n"
     ]
    }
   ],
   "source": [
    "#1\n",
    "print(60 *60)\n",
    "\n",
    "#2\n",
    "seconds_per_hour = 3600\n",
    "#3\n",
    "print(seconds_per_hour * 24)\n",
    "#4\n",
    "seconds_per_day = 86400\n",
    "#5\n",
    "print(seconds_per_day / seconds_per_hour)\n",
    "#6\n",
    "print(seconds_per_day // seconds_per_hour)\n"
   ]
  },
  {
   "cell_type": "code",
   "execution_count": null,
   "id": "c562b274-bacf-4662-9155-beb56d21a847",
   "metadata": {},
   "outputs": [],
   "source": []
  }
 ],
 "metadata": {
  "kernelspec": {
   "display_name": "Python 3 (ipykernel)",
   "language": "python",
   "name": "python3"
  },
  "language_info": {
   "codemirror_mode": {
    "name": "ipython",
    "version": 3
   },
   "file_extension": ".py",
   "mimetype": "text/x-python",
   "name": "python",
   "nbconvert_exporter": "python",
   "pygments_lexer": "ipython3",
   "version": "3.13.5"
  }
 },
 "nbformat": 4,
 "nbformat_minor": 5
}
